{
 "cells": [
  {
   "cell_type": "code",
   "execution_count": 5,
   "id": "0c314190",
   "metadata": {},
   "outputs": [
    {
     "name": "stdout",
     "output_type": "stream",
     "text": [
      "[[7 8 5 4 3 9 1 2 6]\n",
      " [6 1 2 8 7 5 3 4 9]\n",
      " [4 9 3 6 2 1 5 7 8]\n",
      " [8 5 7 9 4 3 2 6 1]\n",
      " [2 6 1 7 5 8 9 3 4]\n",
      " [9 3 4 1 6 2 7 8 5]\n",
      " [5 7 8 3 9 4 6 1 2]\n",
      " [1 2 6 5 8 7 4 9 3]\n",
      " [3 4 9 2 1 6 8 5 7]]\n",
      "More possible solutions\n"
     ]
    }
   ],
   "source": [
    "import numpy as np\n",
    "\n",
    "grid =  [[7, 8, 0, 4, 0, 0, 1, 2, 0],\n",
    "        [6, 0, 0, 0, 7, 5, 0, 0, 9],\n",
    "        [0, 0, 0, 6, 0, 1, 0, 7, 8],\n",
    "        [0, 0, 7, 0, 4, 0, 2, 6, 0],\n",
    "        [0, 0, 1, 0, 5, 0, 9, 3, 0],\n",
    "        [9, 0, 4, 0, 6, 0, 0, 0, 5],\n",
    "        [0, 7, 0, 3, 0, 0, 0, 1, 2],\n",
    "        [1, 2, 0, 0, 0, 7, 4, 0, 0],\n",
    "        [0, 4, 9, 2, 0, 6, 0, 0, 7]\n",
    "        ]\n",
    "\n",
    "def possible(row, column, number):\n",
    "    global grid\n",
    "    #Is the number appearing in the given row?\n",
    "    for i in range(0,9):\n",
    "        if grid[row][i] == number:\n",
    "            return False\n",
    "\n",
    "    #Is the number appearing in the given column?\n",
    "    for i in range(0,9):\n",
    "        if grid[i][column] == number:\n",
    "            return False\n",
    "    \n",
    "    #Is the number appearing in the given square?\n",
    "    x0 = (column // 3) * 3\n",
    "    y0 = (row // 3) * 3\n",
    "    for i in range(0,3):\n",
    "        for j in range(0,3):\n",
    "            if grid[y0+i][x0+j] == number:\n",
    "                return False\n",
    "\n",
    "    return True\n",
    "\n",
    "def solve():\n",
    "    global grid\n",
    "    for row in range(0,9):\n",
    "        for column in range(0,9):\n",
    "            if grid[row][column] == 0:\n",
    "                for number in range(1,10):\n",
    "                    if possible(row, column, number):\n",
    "                        grid[row][column] = number\n",
    "                        solve()\n",
    "                        grid[row][column] = 0\n",
    "\n",
    "                return\n",
    "      \n",
    "    print(np.matrix(grid))\n",
    "    input('More possible solutions')\n",
    "\n",
    "solve()\n"
   ]
  },
  {
   "cell_type": "code",
   "execution_count": null,
   "id": "f50c634d",
   "metadata": {},
   "outputs": [],
   "source": []
  }
 ],
 "metadata": {
  "kernelspec": {
   "display_name": "Python 3 (ipykernel)",
   "language": "python",
   "name": "python3"
  },
  "language_info": {
   "codemirror_mode": {
    "name": "ipython",
    "version": 3
   },
   "file_extension": ".py",
   "mimetype": "text/x-python",
   "name": "python",
   "nbconvert_exporter": "python",
   "pygments_lexer": "ipython3",
   "version": "3.9.13"
  }
 },
 "nbformat": 4,
 "nbformat_minor": 5
}
